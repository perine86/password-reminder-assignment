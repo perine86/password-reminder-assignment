{
  "nbformat": 4,
  "nbformat_minor": 0,
  "metadata": {
    "colab": {
      "name": "prime number nested assignment",
      "provenance": [],
      "authorship_tag": "ABX9TyPS+4sklnAKBWlIitP5Acn2",
      "include_colab_link": true
    },
    "kernelspec": {
      "name": "python3",
      "display_name": "Python 3"
    },
    "language_info": {
      "name": "python"
    }
  },
  "cells": [
    {
      "cell_type": "markdown",
      "metadata": {
        "id": "view-in-github",
        "colab_type": "text"
      },
      "source": [
        "<a href=\"https://colab.research.google.com/github/perine86/password-reminder-assignment/blob/main/prime_number_nested_assignment.ipynb\" target=\"_parent\"><img src=\"https://colab.research.google.com/assets/colab-badge.svg\" alt=\"Open In Colab\"/></a>"
      ]
    },
    {
      "cell_type": "code",
      "source": [
        "def main(n):\n",
        "    list_prime = []\n",
        "    for i in range(2, n+1):\n",
        "        divider = 0\n",
        "        for x in range(2, i):\n",
        "            if not i % x:\n",
        "                divider += 1\n",
        "                break\n",
        "        if not divider:\n",
        "            list_prime.append(i)\n",
        "    print(list_prime)\n",
        "\n",
        "\n",
        "n = int(input(\"Enter an end number : \"))\n",
        "main(n)"
      ],
      "metadata": {
        "colab": {
          "base_uri": "https://localhost:8080/"
        },
        "id": "5Vma8ZSIXIIS",
        "outputId": "60dbf976-0690-48a2-e0e5-af2334bd8d1a"
      },
      "execution_count": 13,
      "outputs": [
        {
          "output_type": "stream",
          "name": "stdout",
          "text": [
            "Enter an end number : 100\n",
            "[2, 3, 5, 7, 11, 13, 17, 19, 23, 29, 31, 37, 41, 43, 47, 53, 59, 61, 67, 71, 73, 79, 83, 89, 97]\n"
          ]
        }
      ]
    }
  ]
}