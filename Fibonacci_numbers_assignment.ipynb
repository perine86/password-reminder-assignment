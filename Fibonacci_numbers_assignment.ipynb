{
  "nbformat": 4,
  "nbformat_minor": 0,
  "metadata": {
    "colab": {
      "name": "Fibonacci numbers assignment",
      "provenance": [],
      "authorship_tag": "ABX9TyNqBfO1cdcfCeELb/NwPaeh",
      "include_colab_link": true
    },
    "kernelspec": {
      "name": "python3",
      "display_name": "Python 3"
    },
    "language_info": {
      "name": "python"
    }
  },
  "cells": [
    {
      "cell_type": "markdown",
      "metadata": {
        "id": "view-in-github",
        "colab_type": "text"
      },
      "source": [
        "<a href=\"https://colab.research.google.com/github/perine86/password-reminder-assignment/blob/main/Fibonacci_numbers_assignment.ipynb\" target=\"_parent\"><img src=\"https://colab.research.google.com/assets/colab-badge.svg\" alt=\"Open In Colab\"/></a>"
      ]
    },
    {
      "cell_type": "code",
      "source": [
        "n1=1\n",
        "n2=1\n",
        "list_fib=[n1, n2]\n",
        "i=1\n",
        "while i <=8:\n",
        "  n3=n1+n2\n",
        "  list_fib.append (n3)\n",
        "  n1=n2\n",
        "  n2=n3\n",
        "  i+=1\n",
        "print(list_fib)\n"
      ],
      "metadata": {
        "colab": {
          "base_uri": "https://localhost:8080/"
        },
        "id": "HFi8fGvphyXq",
        "outputId": "97c93856-e57f-4de7-9700-9a01c7a452e1"
      },
      "execution_count": 8,
      "outputs": [
        {
          "output_type": "stream",
          "name": "stdout",
          "text": [
            "[1, 1, 2, 3, 5, 8, 13, 21, 34, 55]\n"
          ]
        }
      ]
    }
  ]
}