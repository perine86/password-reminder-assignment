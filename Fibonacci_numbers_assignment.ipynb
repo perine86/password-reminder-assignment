{
  "nbformat": 4,
  "nbformat_minor": 0,
  "metadata": {
    "colab": {
      "name": "Fibonacci numbers assignment",
      "provenance": [],
      "authorship_tag": "ABX9TyNlX5/6Bqguoht8xj3yybdY",
      "include_colab_link": true
    },
    "kernelspec": {
      "name": "python3",
      "display_name": "Python 3"
    },
    "language_info": {
      "name": "python"
    }
  },
  "cells": [
    {
      "cell_type": "markdown",
      "metadata": {
        "id": "view-in-github",
        "colab_type": "text"
      },
      "source": [
        "<a href=\"https://colab.research.google.com/github/perine86/password-reminder-assignment/blob/main/Fibonacci_numbers_assignment.ipynb\" target=\"_parent\"><img src=\"https://colab.research.google.com/assets/colab-badge.svg\" alt=\"Open In Colab\"/></a>"
      ]
    },
    {
      "cell_type": "markdown",
      "source": [
        "\"\"'Task : Create a list consisting of Fibonacci numbers from 1 to 55 using control flow statements.\n",
        "\n",
        "The desired output is like :\n",
        "\n",
        "# fibonacci →  [1, 1, 2, 3, 5, 8, 13, 21, 34, 55]\"\"\""
      ],
      "metadata": {
        "id": "QS5yCFNVyX18"
      }
    },
    {
      "cell_type": "code",
      "source": [
        "n1=1\n",
        "n2=1\n",
        "list_fib=[n1, n2]\n",
        "i=1\n",
        "while i <=8:\n",
        "  n3=n1+n2\n",
        "  list_fib.append (n3)\n",
        "  n1=n2\n",
        "  n2=n3\n",
        "  i+=1\n",
        "print(list_fib)"
      ],
      "metadata": {
        "colab": {
          "base_uri": "https://localhost:8080/"
        },
        "id": "flO_1WV6ybvu",
        "outputId": "25b8e495-e912-43ad-d5fb-9d4fa95421ab"
      },
      "execution_count": 32,
      "outputs": [
        {
          "output_type": "stream",
          "name": "stdout",
          "text": [
            "[1, 1, 2, 3, 5, 8, 13, 21, 34, 55]\n"
          ]
        }
      ]
    }
  ]
}